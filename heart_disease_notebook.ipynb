{
 "cells": [
  {
   "cell_type": "markdown",
   "metadata": {},
   "source": [
    "# Heart Disease Prediction - Midterm Project\n",
    "## Minimum Requirements Implementation"
   ]
  },
  {
   "cell_type": "code",
   "execution_count": null,
   "metadata": {},
   "outputs": [],
   "source": [
    "import pandas as pd\n",
    "import numpy as np\n",
    "import matplotlib.pyplot as plt\n",
    "import seaborn as sns\n",
    "from sklearn.impute import SimpleImputer\n",
    "\n",
    "# Set plotting style\n",
    "sns.set_style(\"whitegrid\")\n",
    "plt.rcParams['figure.figsize'] = (10, 6)"
   ]
  },
  {
   "cell_type": "markdown",
   "metadata": {},
   "source": [
    "## 1. DATA COLLECTION AND PREPARATION (25%)"
   ]
  },
  {
   "cell_type": "code",
   "execution_count": null,
   "metadata": {},
   "outputs": [],
   "source": [
    "# Load primary dataset\n",
    "df = pd.read_csv('heart.csv')\n",
    "print(f\"Dataset loaded: {df.shape[0]} rows, {df.shape[1]} columns\")"
   ]
  },
  {
   "cell_type": "code",
   "execution_count": null,
   "metadata": {},
   "outputs": [],
   "source": [
    "# Display first few rows\n",
    "print(\"First 5 rows:\")\n",
    "df.head()"
   ]
  },
  {
   "cell_type": "code",
   "execution_count": null,
   "metadata": {},
   "outputs": [],
   "source": [
    "# Data types\n",
    "print(\"Data types:\")\n",
    "df.dtypes"
   ]
  },
  {
   "cell_type": "code",
   "execution_count": null,
   "metadata": {},
   "outputs": [],
   "source": [
    "# Basic info\n",
    "print(\"Dataset info:\")\n",
    "df.info()"
   ]
  },
  {
   "cell_type": "code",
   "execution_count": null,
   "metadata": {},
   "outputs": [],
   "source": [
    "# Check for duplicates\n",
    "duplicates = df.duplicated().sum()\n",
    "print(f\"Number of duplicate rows: {duplicates}\")\n",
    "\n",
    "# Remove duplicates if any\n",
    "if duplicates > 0:\n",
    "    df = df.drop_duplicates()\n",
    "    print(f\"Duplicates removed. New shape: {df.shape}\")"
   ]
  },
  {
   "cell_type": "code",
   "execution_count": null,
   "metadata": {},
   "outputs": [],
   "source": [
    "# Check for missing values\n",
    "print(\"Missing values per column:\")\n",
    "df.isnull().sum()"
   ]
  },
  {
   "cell_type": "code",
   "execution_count": null,
   "metadata": {},
   "outputs": [],
   "source": [
    "# Identify categorical vs continuous variables\n",
    "categorical_vars = ['sex', 'cp', 'fbs', 'restecg', 'exang', 'slope', 'ca', 'thal', 'target']\n",
    "continuous_vars = ['age', 'trestbps', 'chol', 'thalach', 'oldpeak']\n",
    "\n",
    "print(f\"Categorical variables: {categorical_vars}\")\n",
    "print(f\"Continuous variables: {continuous_vars}\")"
   ]
  },
  {
   "cell_type": "markdown",
   "metadata": {},
   "source": [
    "## 2. DATA PROCESSING - HANDLING MISSING DATA (15%)"
   ]
  },
  {
   "cell_type": "code",
   "execution_count": null,
   "metadata": {},
   "outputs": [],
   "source": [
    "# Create a copy for processing\n",
    "df_processed = df.copy()\n",
    "\n",
    "# Apply median imputation for continuous variables (ONE technique as requested)\n",
    "imputer = SimpleImputer(strategy='median')\n",
    "\n",
    "for col in continuous_vars:\n",
    "    if df_processed[col].isnull().sum() > 0:\n",
    "        df_processed[col] = imputer.fit_transform(df_processed[[col]])\n",
    "        print(f\"Imputed {col} with median\")\n",
    "\n",
    "# For categorical variables, use mode imputation if needed\n",
    "for col in categorical_vars:\n",
    "    if df_processed[col].isnull().sum() > 0:\n",
    "        mode_value = df_processed[col].mode()[0]\n",
    "        df_processed[col].fillna(mode_value, inplace=True)\n",
    "        print(f\"Imputed {col} with mode: {mode_value}\")\n",
    "\n",
    "print(\"\\nMissing values after imputation:\")\n",
    "print(df_processed.isnull().sum().sum())"
   ]
  },
  {
   "cell_type": "markdown",
   "metadata": {},
   "source": [
    "## 3. EXPLORATORY DATA ANALYSIS AND VISUALIZATION (25%)"
   ]
  },
  {
   "cell_type": "code",
   "execution_count": null,
   "metadata": {},
   "outputs": [],
   "source": [
    "# Basic statistical summaries\n",
    "print(\"Statistical Summary - Continuous Variables:\")\n",
    "df_processed[continuous_vars].describe()"
   ]
  },
  {
   "cell_type": "code",
   "execution_count": null,
   "metadata": {},
   "outputs": [],
   "source": [
    "print(\"Statistical Summary - Categorical Variables:\")\n",
    "df_processed[categorical_vars].describe()"
   ]
  },
  {
   "cell_type": "code",
   "execution_count": null,
   "metadata": {},
   "outputs": [],
   "source": [
    "# Target variable distribution\n",
    "print(\"Target variable distribution:\")\n",
    "print(df_processed['target'].value_counts())\n",
    "print(f\"\\nClass balance: {df_processed['target'].value_counts(normalize=True)}\")"
   ]
  },
  {
   "cell_type": "markdown",
   "metadata": {},
   "source": [
    "### VISUALIZATION 1: Histogram (Distribution of Age)"
   ]
  },
  {
   "cell_type": "code",
   "execution_count": null,
   "metadata": {},
   "outputs": [],
   "source": [
    "plt.figure(figsize=(10, 6))\n",
    "plt.hist(df_processed['age'], bins=20, edgecolor='black', alpha=0.7)\n",
    "plt.xlabel('Age')\n",
    "plt.ylabel('Frequency')\n",
    "plt.title('Distribution of Patient Age')\n",
    "plt.grid(axis='y', alpha=0.3)\n",
    "plt.tight_layout()\n",
    "plt.savefig('viz1_age_distribution.png', dpi=300, bbox_inches='tight')\n",
    "plt.show()"
   ]
  },
  {
   "cell_type": "markdown",
   "metadata": {},
   "source": [
    "### VISUALIZATION 2: Bar Chart (Target Variable)"
   ]
  },
  {
   "cell_type": "code",
   "execution_count": null,
   "metadata": {},
   "outputs": [],
   "source": [
    "plt.figure(figsize=(8, 6))\n",
    "target_counts = df_processed['target'].value_counts()\n",
    "plt.bar(target_counts.index, target_counts.values, color=['#2ecc71', '#e74c3c'], edgecolor='black')\n",
    "plt.xlabel('Heart Disease')\n",
    "plt.ylabel('Count')\n",
    "plt.title('Distribution of Heart Disease Presence')\n",
    "plt.xticks([0, 1], ['Absent', 'Present'])\n",
    "plt.grid(axis='y', alpha=0.3)\n",
    "plt.tight_layout()\n",
    "plt.savefig('viz2_target_distribution.png', dpi=300, bbox_inches='tight')\n",
    "plt.show()"
   ]
  },
  {
   "cell_type": "markdown",
   "metadata": {},
   "source": [
    "### VISUALIZATION 3: Correlation Heatmap"
   ]
  },
  {
   "cell_type": "code",
   "execution_count": null,
   "metadata": {},
   "outputs": [],
   "source": [
    "plt.figure(figsize=(12, 10))\n",
    "correlation_matrix = df_processed[continuous_vars + ['target']].corr()\n",
    "sns.heatmap(correlation_matrix, annot=True, fmt='.2f', cmap='coolwarm', \n",
    "            center=0, square=True, linewidths=1)\n",
    "plt.title('Correlation Heatmap - Continuous Variables and Target')\n",
    "plt.tight_layout()\n",
    "plt.savefig('viz3_correlation_heatmap.png', dpi=300, bbox_inches='tight')\n",
    "plt.show()"
   ]
  },
  {
   "cell_type": "markdown",
   "metadata": {},
   "source": [
    "## 4. DATA ENCODING FOR FUTURE MODELING"
   ]
  },
  {
   "cell_type": "code",
   "execution_count": null,
   "metadata": {},
   "outputs": [],
   "source": [
    "# Create encoded dataset for future modeling\n",
    "df_encoded = df_processed.copy()\n",
    "\n",
    "# Binary variables are already encoded (0/1)\n",
    "binary_vars = ['sex', 'fbs', 'exang', 'target']\n",
    "print(f\"Binary variables (already encoded): {binary_vars}\")"
   ]
  },
  {
   "cell_type": "code",
   "execution_count": null,
   "metadata": {},
   "outputs": [],
   "source": [
    "# One-hot encode multi-class categorical variables\n",
    "multi_class_vars = ['cp', 'restecg', 'slope', 'thal']\n",
    "df_encoded = pd.get_dummies(df_encoded, columns=multi_class_vars, prefix=multi_class_vars, drop_first=True)\n",
    "\n",
    "print(f\"Original shape: {df_processed.shape}\")\n",
    "print(f\"Encoded shape: {df_encoded.shape}\")\n",
    "print(f\"\\nNew columns after encoding: {df_encoded.shape[1] - df_processed.shape[1]} additional columns\")"
   ]
  },
  {
   "cell_type": "code",
   "execution_count": null,
   "metadata": {},
   "outputs": [],
   "source": [
    "# Display encoded columns\n",
    "print(\"Encoded column names:\")\n",
    "print(df_encoded.columns.tolist())"
   ]
  },
  {
   "cell_type": "code",
   "execution_count": null,
   "metadata": {},
   "outputs": [],
   "source": [
    "# Save processed and encoded data for future modeling\n",
    "df_encoded.to_csv('heart_processed_encoded.csv', index=False)\n",
    "print(\"Processed and encoded data saved to 'heart_processed_encoded.csv'\")"
   ]
  },
  {
   "cell_type": "markdown",
   "metadata": {},
   "source": [
    "## 5. FINAL SUMMARY"
   ]
  },
  {
   "cell_type": "code",
   "execution_count": null,
   "metadata": {},
   "outputs": [],
   "source": [
    "print(\"=\"*60)\n",
    "print(\"SUMMARY\")\n",
    "print(\"=\"*60)\n",
    "print(f\"Total observations: {df_encoded.shape[0]}\")\n",
    "print(f\"Total features (after encoding): {df_encoded.shape[1]}\")\n",
    "print(f\"Target variable: 'target' (0=No disease, 1=Disease present)\")\n",
    "print(\"\\nData is now prepared for future model training!\")\n",
    "print(\"=\"*60)"
   ]
  }
 ],
 "metadata": {
  "kernelspec": {
   "display_name": "Python 3",
   "language": "python",
   "name": "python3"
  },
  "language_info": {
   "codemirror_mode": {
    "name": "ipython",
    "version": 3
   },
   "file_extension": ".py",
   "mimetype": "text/x-python",
   "name": "python",
   "nbconvert_exporter": "python",
   "pygments_lexer": "ipython3",
   "version": "3.8.0"
  }
 },
 "nbformat": 4,
 "nbformat_minor": 4
}
